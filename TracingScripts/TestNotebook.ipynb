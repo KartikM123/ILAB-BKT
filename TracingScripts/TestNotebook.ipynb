{
 "cells": [
  {
   "cell_type": "code",
   "execution_count": 5,
   "metadata": {},
   "outputs": [
    {
     "name": "stdout",
     "output_type": "stream",
     "text": [
      "[[[0.9 0.3]\n",
      "  [0.1 0.7]]\n",
      "\n",
      " [[0.9 0.3]\n",
      "  [0.1 0.7]]\n",
      "\n",
      " [[0.9 0.3]\n",
      "  [0.1 0.7]]]\n"
     ]
    },
    {
     "data": {
      "text/plain": [
       "array([0.1, 0.1, 0.1])"
      ]
     },
     "execution_count": 5,
     "metadata": {},
     "output_type": "execute_result"
    }
   ],
   "source": [
    "import numpy as np\n",
    "truemodel = {}\n",
    "num_resources = 3;\n",
    "\n",
    "truemodel[\"As\"] = np.zeros((num_resources, 2, 2), dtype=np.float_)\n",
    "p_T = 0.1\n",
    "p_F = 0.3\n",
    "for i in range(num_resources):\n",
    "    truemodel[\"As\"][i] = np.transpose([[1-p_T, p_T], [p_F, 1-p_F]])\n",
    "\n",
    "print(truemodel[\"As\"])\n",
    "truemodel[\"As\"][:,1,0]"
   ]
  },
  {
   "cell_type": "code",
   "execution_count": null,
   "metadata": {},
   "outputs": [],
   "source": []
  }
 ],
 "metadata": {
  "kernelspec": {
   "display_name": "Python 3",
   "language": "python",
   "name": "python3"
  },
  "language_info": {
   "codemirror_mode": {
    "name": "ipython",
    "version": 3
   },
   "file_extension": ".py",
   "mimetype": "text/x-python",
   "name": "python",
   "nbconvert_exporter": "python",
   "pygments_lexer": "ipython3",
   "version": "3.7.4"
  }
 },
 "nbformat": 4,
 "nbformat_minor": 2
}
