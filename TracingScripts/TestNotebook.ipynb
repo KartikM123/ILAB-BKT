{
 "cells": [
  {
   "cell_type": "code",
   "execution_count": 9,
   "metadata": {},
   "outputs": [
    {
     "data": {
      "text/plain": [
       "array([100, 100, 100, 100, 100, 100, 100, 100, 100, 100, 100, 100, 100,\n",
       "       100, 100, 100, 100, 100, 100, 100, 100, 100, 100, 100, 100, 100,\n",
       "       100, 100, 100, 100, 100, 100, 100, 100, 100, 100, 100, 100, 100,\n",
       "       100, 100, 100, 100, 100, 100, 100, 100, 100, 100, 100])"
      ]
     },
     "execution_count": 9,
     "metadata": {},
     "output_type": "execute_result"
    }
   ],
   "source": [
    "import numpy as np\n",
    "truemodel = {}\n",
    "num_resources = 3;\n",
    "\n",
    "truemodel[\"As\"] = np.zeros((num_resources, 2, 2), dtype=np.float_)\n",
    "p_T = 0.1\n",
    "p_F = 0.3\n",
    "for i in range(num_resources):\n",
    "    truemodel[\"As\"][i] = np.transpose([[1-p_T, p_T], [p_F, 1-p_F]])\n",
    "\n",
    "observation_sequence_lengths = np.full(50, 100, dtype=np.int)\n",
    "(observation_sequence_lengths)"
   ]
  },
  {
   "cell_type": "code",
   "execution_count": null,
   "metadata": {},
   "outputs": [],
   "source": []
  }
 ],
 "metadata": {
  "kernelspec": {
   "display_name": "Python 3",
   "language": "python",
   "name": "python3"
  },
  "language_info": {
   "codemirror_mode": {
    "name": "ipython",
    "version": 3
   },
   "file_extension": ".py",
   "mimetype": "text/x-python",
   "name": "python",
   "nbconvert_exporter": "python",
   "pygments_lexer": "ipython3",
   "version": "3.7.4"
  }
 },
 "nbformat": 4,
 "nbformat_minor": 2
}
