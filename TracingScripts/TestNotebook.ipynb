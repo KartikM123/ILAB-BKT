{
 "cells": [
  {
   "cell_type": "code",
   "execution_count": 51,
   "metadata": {},
   "outputs": [
    {
     "data": {
      "text/plain": [
       "array([[0.03333333, 0.03333333, 0.03333333, ..., 0.03333333, 0.03333333,\n",
       "        0.03333333],\n",
       "       [0.03333333, 0.03333333, 0.03333333, ..., 0.03333333, 0.03333333,\n",
       "        0.03333333],\n",
       "       [0.03333333, 0.03333333, 0.03333333, ..., 0.03333333, 0.03333333,\n",
       "        0.03333333],\n",
       "       ...,\n",
       "       [0.03333333, 0.03333333, 0.03333333, ..., 0.03333333, 0.03333333,\n",
       "        0.03333333],\n",
       "       [0.03333333, 0.03333333, 0.03333333, ..., 0.03333333, 0.03333333,\n",
       "        0.03333333],\n",
       "       [0.03333333, 0.03333333, 0.03333333, ..., 0.03333333, 0.03333333,\n",
       "        0.03333333]])"
      ]
     },
     "execution_count": 51,
     "metadata": {},
     "output_type": "execute_result"
    }
   ],
   "source": [
    "import numpy as np\n",
    "truemodel = {}\n",
    "num_resources = 3;\n",
    "num_subparts = 3;\n",
    "\n",
    "truemodel[\"As\"] = np.zeros((num_resources, 2, 2), dtype=np.float_)\n",
    "p_T = 0.1\n",
    "p_F = 0.3\n",
    "for i in range(num_resources):\n",
    "    truemodel[\"As\"][i] = np.transpose([[1-p_T, p_T], [p_F, 1-p_F]])\n",
    "\n",
    "observation_sequence_lengths = np.full((50,30), 100, dtype=np.int)\n",
    "temp = np.sum(observation_sequence_lengths, axis = 1, keepdims = True)\n",
    "observation_sequence_lengths/temp"
   ]
  },
  {
   "cell_type": "code",
   "execution_count": 60,
   "metadata": {},
   "outputs": [
    {
     "name": "stdout",
     "output_type": "stream",
     "text": [
      "[[[20  1]\n",
      "  [ 4 20]]\n",
      "\n",
      " [[20  1]\n",
      "  [ 4 20]]\n",
      "\n",
      " [[20  1]\n",
      "  [ 4 20]]]\n",
      "[1 1 1]\n"
     ]
    },
    {
     "data": {
      "text/plain": [
       "array([[24, 21],\n",
       "       [24, 21],\n",
       "       [24, 21]])"
      ]
     },
     "execution_count": 60,
     "metadata": {},
     "output_type": "execute_result"
    }
   ],
   "source": [
    "trans_prior = np.tile(np.transpose([[20, 4], [1, 20]]), (num_resources, 1)).reshape((num_resources,2,2))\n",
    "#trans_prior = np.transpose([[20, 4], [1, 20]])\n",
    "print(trans_prior)\n",
    "print(trans_prior[:,0,1])\n",
    "np.sum(trans_prior,1)"
   ]
  },
  {
   "cell_type": "code",
   "execution_count": 53,
   "metadata": {},
   "outputs": [
    {
     "ename": "NameError",
     "evalue": "name 'alphavec' is not defined",
     "output_type": "error",
     "traceback": [
      "\u001b[0;31m---------------------------------------------------------------------------\u001b[0m",
      "\u001b[0;31mNameError\u001b[0m                                 Traceback (most recent call last)",
      "\u001b[0;32m<ipython-input-53-020b104de0f2>\u001b[0m in \u001b[0;36m<module>\u001b[0;34m\u001b[0m\n\u001b[1;32m      1\u001b[0m \u001b[0ma\u001b[0m \u001b[0;34m=\u001b[0m \u001b[0mnp\u001b[0m\u001b[0;34m.\u001b[0m\u001b[0mtile\u001b[0m\u001b[0;34m(\u001b[0m\u001b[0;34m[\u001b[0m\u001b[0;34m[\u001b[0m\u001b[0;36m5\u001b[0m\u001b[0;34m]\u001b[0m\u001b[0;34m,\u001b[0m \u001b[0;34m[\u001b[0m\u001b[0;36m0.5\u001b[0m\u001b[0;34m]\u001b[0m\u001b[0;34m]\u001b[0m\u001b[0;34m,\u001b[0m \u001b[0;34m(\u001b[0m\u001b[0;36m1\u001b[0m\u001b[0;34m,\u001b[0m \u001b[0mnum_resources\u001b[0m\u001b[0;34m)\u001b[0m\u001b[0;34m)\u001b[0m\u001b[0;34m\u001b[0m\u001b[0;34m\u001b[0m\u001b[0m\n\u001b[1;32m      2\u001b[0m \u001b[0ma\u001b[0m\u001b[0;34m=\u001b[0m \u001b[0mnp\u001b[0m\u001b[0;34m.\u001b[0m\u001b[0marray\u001b[0m\u001b[0;34m(\u001b[0m\u001b[0;34m[\u001b[0m\u001b[0;34m[\u001b[0m\u001b[0;36m100\u001b[0m\u001b[0;34m]\u001b[0m\u001b[0;34m,\u001b[0m \u001b[0;34m[\u001b[0m\u001b[0;36m1\u001b[0m\u001b[0;34m]\u001b[0m\u001b[0;34m]\u001b[0m\u001b[0;34m)\u001b[0m\u001b[0;34m\u001b[0m\u001b[0;34m\u001b[0m\u001b[0m\n\u001b[0;32m----> 3\u001b[0;31m \u001b[0ma\u001b[0m \u001b[0;34m=\u001b[0m \u001b[0mnp\u001b[0m\u001b[0;34m.\u001b[0m\u001b[0mrandom\u001b[0m\u001b[0;34m.\u001b[0m\u001b[0mgamma\u001b[0m\u001b[0;34m(\u001b[0m\u001b[0malphavec\u001b[0m\u001b[0;34m,\u001b[0m \u001b[0;36m1\u001b[0m\u001b[0;34m)\u001b[0m\u001b[0;34m\u001b[0m\u001b[0;34m\u001b[0m\u001b[0m\n\u001b[0m\u001b[1;32m      4\u001b[0m \u001b[0ma\u001b[0m\u001b[0;34m\u001b[0m\u001b[0;34m\u001b[0m\u001b[0m\n",
      "\u001b[0;31mNameError\u001b[0m: name 'alphavec' is not defined"
     ]
    }
   ],
   "source": [
    "a = np.tile([[5], [0.5]], (1, num_resources))\n",
    "a= np.array([[100], [1]])\n",
    "a = np.random.gamma(alphavec, 1)\n",
    "a"
   ]
  },
  {
   "cell_type": "code",
   "execution_count": 63,
   "metadata": {},
   "outputs": [
    {
     "name": "stdout",
     "output_type": "stream",
     "text": [
      "[[5.  5.  5. ]\n",
      " [0.5 0.5 0.5]]\n",
      "[0.5 0.5 0.5]\n"
     ]
    },
    {
     "data": {
      "text/plain": [
       "array([[5. , 0.5],\n",
       "       [0.6, 6. ]])"
      ]
     },
     "execution_count": 63,
     "metadata": {},
     "output_type": "execute_result"
    }
   ],
   "source": [
    "given_notknow = np.tile([[5], [0.5]], (1, num_subparts))\n",
    "given_know = np.tile([[0.6], [6]], (1, num_subparts))\n",
    "print(given_notknow)\n",
    "print(given_notknow[1,:])\n",
    "emissions = np.stack((np.transpose(given_notknow.reshape((2, num_subparts))), np.transpose(given_know.reshape((2, num_subparts)))), axis=1)\n",
    "emissions[-1]"
   ]
  },
  {
   "cell_type": "code",
   "execution_count": 66,
   "metadata": {},
   "outputs": [
    {
     "data": {
      "text/plain": [
       "1"
      ]
     },
     "execution_count": 66,
     "metadata": {},
     "output_type": "execute_result"
    }
   ],
   "source": [
    "arr = [1,2,3,4]\n",
    "arr[0]"
   ]
  },
  {
   "cell_type": "code",
   "execution_count": null,
   "metadata": {},
   "outputs": [],
   "source": []
  }
 ],
 "metadata": {
  "kernelspec": {
   "display_name": "Python 3",
   "language": "python",
   "name": "python3"
  },
  "language_info": {
   "codemirror_mode": {
    "name": "ipython",
    "version": 3
   },
   "file_extension": ".py",
   "mimetype": "text/x-python",
   "name": "python",
   "nbconvert_exporter": "python",
   "pygments_lexer": "ipython3",
   "version": "3.7.4"
  }
 },
 "nbformat": 4,
 "nbformat_minor": 2
}
